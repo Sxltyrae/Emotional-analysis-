{
  "cells": [
    {
      "cell_type": "markdown",
      "metadata": {
        "id": "view-in-github",
        "colab_type": "text"
      },
      "source": [
        "<a href=\"https://colab.research.google.com/github/Sxltyrae/Sentiment-analysis-of-social-media-conversations-/blob/main/Welcome_To_Colab.ipynb\" target=\"_parent\"><img src=\"https://colab.research.google.com/assets/colab-badge.svg\" alt=\"Open In Colab\"/></a>"
      ]
    },
    {
      "cell_type": "code",
      "source": [
        "import pandas as pd\n",
        "from sklearn.model_selection import train_test_split\n",
        "from sklearn.feature_extraction.text import TfidfVectorizer\n",
        "from sklearn.linear_model import LogisticRegression\n",
        "from sklearn.metrics import classification_report\n",
        "\n",
        "# Load dataset\n",
        "df = pd.read_csv(\"/content/sentiment-emotion-labelled_Dell_tweets.csv\")\n",
        "\n",
        "# Ensure required columns exist and drop missing data\n",
        "df = df[['Text', 'sentiment', 'emotion']].dropna()\n",
        "\n",
        "# === Common Text Vectorization ===\n",
        "vectorizer = TfidfVectorizer(stop_words='english', max_features=5000)\n",
        "X = vectorizer.fit_transform(df['Text'])\n",
        "\n",
        "# === Sentiment Classification ===\n",
        "print(\"=== Sentiment Classification ===\")\n",
        "X_train_sent, X_test_sent, y_train_sent, y_test_sent = train_test_split(\n",
        "    X, df['sentiment'], test_size=0.2, random_state=42)\n",
        "\n",
        "sentiment_model = LogisticRegression(max_iter=1000)\n",
        "sentiment_model.fit(X_train_sent, y_train_sent)\n",
        "y_pred_sent = sentiment_model.predict(X_test_sent)\n",
        "print(classification_report(y_test_sent, y_pred_sent))\n",
        "\n",
        "# === Emotion Classification ===\n",
        "print(\"=== Emotion Classification ===\")\n",
        "X_train_em, X_test_em, y_train_em, y_test_em = train_test_split(\n",
        "    X, df['emotion'], test_size=0.2, random_state=42)\n",
        "\n",
        "emotion_model = LogisticRegression(max_iter=1000)\n",
        "emotion_model.fit(X_train_em, y_train_em)\n",
        "y_pred_em = emotion_model.predict(X_test_em)\n",
        "print(classification_report(y_test_em, y_pred_em))\n"
      ],
      "metadata": {
        "id": "4QsNUO9QNhEM",
        "outputId": "d7ba27a1-9ff9-4f5e-ec5d-a9a65dd5a3ac",
        "colab": {
          "base_uri": "https://localhost:8080/"
        }
      },
      "execution_count": 3,
      "outputs": [
        {
          "output_type": "stream",
          "name": "stdout",
          "text": [
            "=== Sentiment Classification ===\n",
            "              precision    recall  f1-score   support\n",
            "\n",
            "    negative       0.80      0.85      0.83      2065\n",
            "     neutral       0.67      0.63      0.65      1468\n",
            "    positive       0.77      0.75      0.76      1461\n",
            "\n",
            "    accuracy                           0.76      4994\n",
            "   macro avg       0.75      0.75      0.75      4994\n",
            "weighted avg       0.76      0.76      0.76      4994\n",
            "\n",
            "=== Emotion Classification ===\n",
            "              precision    recall  f1-score   support\n",
            "\n",
            "       anger       0.70      0.87      0.77      1464\n",
            "anticipation       0.53      0.62      0.57      1037\n",
            "     disgust       0.44      0.24      0.31       616\n",
            "        fear       1.00      0.24      0.38        68\n",
            "         joy       0.66      0.75      0.70      1289\n",
            "    optimism       0.91      0.27      0.41       271\n",
            "     sadness       0.70      0.15      0.24       240\n",
            "    surprise       0.00      0.00      0.00         9\n",
            "\n",
            "    accuracy                           0.63      4994\n",
            "   macro avg       0.62      0.39      0.42      4994\n",
            "weighted avg       0.64      0.63      0.61      4994\n",
            "\n"
          ]
        },
        {
          "output_type": "stream",
          "name": "stderr",
          "text": [
            "/usr/local/lib/python3.11/dist-packages/sklearn/metrics/_classification.py:1565: UndefinedMetricWarning: Precision is ill-defined and being set to 0.0 in labels with no predicted samples. Use `zero_division` parameter to control this behavior.\n",
            "  _warn_prf(average, modifier, f\"{metric.capitalize()} is\", len(result))\n",
            "/usr/local/lib/python3.11/dist-packages/sklearn/metrics/_classification.py:1565: UndefinedMetricWarning: Precision is ill-defined and being set to 0.0 in labels with no predicted samples. Use `zero_division` parameter to control this behavior.\n",
            "  _warn_prf(average, modifier, f\"{metric.capitalize()} is\", len(result))\n",
            "/usr/local/lib/python3.11/dist-packages/sklearn/metrics/_classification.py:1565: UndefinedMetricWarning: Precision is ill-defined and being set to 0.0 in labels with no predicted samples. Use `zero_division` parameter to control this behavior.\n",
            "  _warn_prf(average, modifier, f\"{metric.capitalize()} is\", len(result))\n"
          ]
        }
      ]
    }
  ],
  "metadata": {
    "colab": {
      "name": "Welcome To Colab",
      "provenance": [],
      "include_colab_link": true
    },
    "kernelspec": {
      "display_name": "Python 3",
      "name": "python3"
    }
  },
  "nbformat": 4,
  "nbformat_minor": 0
}